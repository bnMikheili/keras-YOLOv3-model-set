{
 "cells": [
  {
   "cell_type": "code",
   "execution_count": null,
   "metadata": {},
   "outputs": [],
   "source": [
    "from yolo import *\n",
    "import os\n",
    "import pandas as pd\n",
    "\n",
    "CURR_DIR = '/home/misho/Uni/Vision/YOLO/keras-YOLOv3-model-set'"
   ]
  },
  {
   "cell_type": "markdown",
   "metadata": {},
   "source": [
    "### Initialize classification function"
   ]
  },
  {
   "cell_type": "code",
   "execution_count": null,
   "metadata": {},
   "outputs": [],
   "source": [
    "yolo = YOLO_np(**{'dump_model':False, 'image':True, 'input':'./path2your_video', 'model_image_size':(416, 416), 'output':'', 'pruning_model':False})\n",
    "print(os.getcwd())\n",
    "\n",
    "def car_on_image(path):\n",
    "    img = Image.open(path)\n",
    "\n",
    "    out_boxes, out_classes, out_scores = yolo.detect_image(img, True) \n",
    "    for i in range(len(out_classes)):\n",
    "        if out_classes[i] == 2:\n",
    "            box = out_boxes[i]\n",
    "            box_area = (box[2]-box[0]) * (box[3]-box[1]) / (275*350)\n",
    "            if box_area > 0.25:\n",
    "                return True\n",
    "    return False"
   ]
  },
  {
   "cell_type": "markdown",
   "metadata": {},
   "source": [
    "### Load dataset"
   ]
  },
  {
   "cell_type": "code",
   "execution_count": null,
   "metadata": {},
   "outputs": [],
   "source": [
    "data = pd.read_csv('./Myauto_data/MyAuto_ge_Cars_Data.csv')\n",
    "data.head()"
   ]
  },
  {
   "cell_type": "markdown",
   "metadata": {},
   "source": [
    "### Run classifier and create dataframe for images that contain car for each car ID"
   ]
  },
  {
   "cell_type": "code",
   "execution_count": null,
   "metadata": {},
   "outputs": [],
   "source": [
    "car_image_df = pd.DataFrame({'ID':[], 'images':[]})\n",
    "path = CURR_DIR + '/Myauto_data/Car_Images/{}/'\n",
    "for i in range(len(data)):\n",
    "    ID = data.iloc[i].ID\n",
    "    images = ''\n",
    "    try:\n",
    "        image_dir = os.listdir(path.format(ID))\n",
    "    except: continue\n",
    "    for img in image_dir:\n",
    "        if car_on_image(path.format(ID)+img):\n",
    "            images += img.split('.')[0] + '_'\n",
    "    if len(images) != 0:\n",
    "        images = images[:-1]\n",
    "    car_image_df = car_image_df.append(pd.DataFrame({'ID':[int(ID)], 'images':[images]}))\n",
    "    if i%100 == 0:\n",
    "        car_image_df.to_csv('CAR_IMAGE_DF.csv')\n",
    "        print('Done: {}'.format(i))"
   ]
  }
 ],
 "metadata": {
  "kernelspec": {
   "display_name": "YOLO_env",
   "language": "python",
   "name": "yolo_env"
  },
  "language_info": {
   "codemirror_mode": {
    "name": "ipython",
    "version": 3
   },
   "file_extension": ".py",
   "mimetype": "text/x-python",
   "name": "python",
   "nbconvert_exporter": "python",
   "pygments_lexer": "ipython3",
   "version": "3.7.7"
  }
 },
 "nbformat": 4,
 "nbformat_minor": 4
}
